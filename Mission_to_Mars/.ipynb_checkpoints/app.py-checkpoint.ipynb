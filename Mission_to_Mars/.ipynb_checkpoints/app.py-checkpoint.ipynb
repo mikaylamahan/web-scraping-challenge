{
 "cells": [
  {
   "cell_type": "code",
   "execution_count": 39,
   "metadata": {},
   "outputs": [],
   "source": [
    "from flask import Flask, render_template, redirect, jsonify\n",
    "from flask_pymongo import PyMongo\n",
    "#import scrape_mars\n",
    "#import scrape_mars function is not working..."
   ]
  },
  {
   "cell_type": "code",
   "execution_count": 32,
   "metadata": {},
   "outputs": [
    {
     "name": "stdout",
     "output_type": "stream",
     "text": [
      "Requirement already satisfied: flask_pymongo in c:\\users\\mikayla\\anaconda3\\envs\\pythondata\\lib\\site-packages (2.3.0)\n",
      "Requirement already satisfied: PyMongo>=3.3 in c:\\users\\mikayla\\anaconda3\\envs\\pythondata\\lib\\site-packages (from flask_pymongo) (3.9.0)\n",
      "Requirement already satisfied: Flask>=0.11 in c:\\users\\mikayla\\anaconda3\\envs\\pythondata\\lib\\site-packages (from flask_pymongo) (1.1.1)\n",
      "Requirement already satisfied: click>=5.1 in c:\\users\\mikayla\\anaconda3\\envs\\pythondata\\lib\\site-packages (from Flask>=0.11->flask_pymongo) (7.0)\n",
      "Requirement already satisfied: Werkzeug>=0.15 in c:\\users\\mikayla\\anaconda3\\envs\\pythondata\\lib\\site-packages (from Flask>=0.11->flask_pymongo) (0.15.5)\n",
      "Requirement already satisfied: itsdangerous>=0.24 in c:\\users\\mikayla\\anaconda3\\envs\\pythondata\\lib\\site-packages (from Flask>=0.11->flask_pymongo) (1.1.0)\n",
      "Requirement already satisfied: Jinja2>=2.10.1 in c:\\users\\mikayla\\anaconda3\\envs\\pythondata\\lib\\site-packages (from Flask>=0.11->flask_pymongo) (2.10.1)\n",
      "Requirement already satisfied: MarkupSafe>=0.23 in c:\\users\\mikayla\\anaconda3\\envs\\pythondata\\lib\\site-packages (from Jinja2>=2.10.1->Flask>=0.11->flask_pymongo) (1.1.1)\n"
     ]
    }
   ],
   "source": [
    "#!pip install pymongo\n",
    "!pip install flask_pymongo"
   ]
  },
  {
   "cell_type": "code",
   "execution_count": 25,
   "metadata": {},
   "outputs": [],
   "source": [
    "import pandas as pd\n",
    "import requests\n",
    "from splinter import Browser\n",
    "from bs4 import BeautifulSoup"
   ]
  },
  {
   "cell_type": "code",
   "execution_count": 13,
   "metadata": {},
   "outputs": [],
   "source": [
    "app = Flask(__name__)"
   ]
  },
  {
   "cell_type": "code",
   "execution_count": 35,
   "metadata": {},
   "outputs": [],
   "source": [
    "app.config[\"MONGO_URI\"] = \"mongodb://localhost:27017/scrape_mars\"\n",
    "mongo = PyMongo(app)"
   ]
  },
  {
   "cell_type": "code",
   "execution_count": 36,
   "metadata": {},
   "outputs": [],
   "source": [
    "db = client.classDB"
   ]
  },
  {
   "cell_type": "code",
   "execution_count": 37,
   "metadata": {},
   "outputs": [],
   "source": [
    "mars_collection = db.mars_collection"
   ]
  },
  {
   "cell_type": "code",
   "execution_count": 38,
   "metadata": {},
   "outputs": [
    {
     "name": "stdout",
     "output_type": "stream",
     "text": [
      " * Serving Flask app \"__main__\" (lazy loading)\n",
      " * Environment: production\n",
      "   WARNING: This is a development server. Do not use it in a production deployment.\n",
      "   Use a production WSGI server instead.\n",
      " * Debug mode: on\n"
     ]
    },
    {
     "name": "stderr",
     "output_type": "stream",
     "text": [
      " * Restarting with stat\n"
     ]
    },
    {
     "ename": "SystemExit",
     "evalue": "1",
     "output_type": "error",
     "traceback": [
      "An exception has occurred, use %tb to see the full traceback.\n",
      "\u001b[1;31mSystemExit\u001b[0m\u001b[1;31m:\u001b[0m 1\n"
     ]
    },
    {
     "name": "stderr",
     "output_type": "stream",
     "text": [
      "C:\\Users\\Mikayla\\Anaconda3\\envs\\PythonData\\lib\\site-packages\\IPython\\core\\interactiveshell.py:3334: UserWarning: To exit: use 'exit', 'quit', or Ctrl-D.\n",
      "  warn(\"To exit: use 'exit', 'quit', or Ctrl-D.\", stacklevel=1)\n"
     ]
    }
   ],
   "source": [
    "@app.route(\"/\")\n",
    "def index():\n",
    "    final_data = mongo.db.final_data.find_one()\n",
    "    return render_template(\"index.html\", final_data=final_data)\n",
    "\n",
    "\n",
    "@app.route(\"/scrape\")\n",
    "def scraper():\n",
    "    final_data = mongo.db.final_data\n",
    "    final_final_data = scrape_mars.scrape()\n",
    "    final_data.update({}, final_final_data, upsert=True)\n",
    "    return redirect(\"/\", code=302)\n",
    "\n",
    "\n",
    "if __name__ == \"__main__\":\n",
    "    app.run(debug=True)\n"
   ]
  },
  {
   "cell_type": "code",
   "execution_count": null,
   "metadata": {},
   "outputs": [],
   "source": []
  }
 ],
 "metadata": {
  "kernelspec": {
   "display_name": "Python 3",
   "language": "python",
   "name": "python3"
  },
  "language_info": {
   "codemirror_mode": {
    "name": "ipython",
    "version": 3
   },
   "file_extension": ".py",
   "mimetype": "text/x-python",
   "name": "python",
   "nbconvert_exporter": "python",
   "pygments_lexer": "ipython3",
   "version": "3.6.9"
  }
 },
 "nbformat": 4,
 "nbformat_minor": 2
}
