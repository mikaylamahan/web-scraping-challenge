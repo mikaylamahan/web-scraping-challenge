{
 "cells": [
  {
   "cell_type": "code",
   "execution_count": 1,
   "metadata": {},
   "outputs": [],
   "source": [
    "import pandas as pd\n",
    "import requests\n",
    "from splinter import Browser\n",
    "from bs4 import BeautifulSoup"
   ]
  },
  {
   "cell_type": "code",
   "execution_count": 2,
   "metadata": {},
   "outputs": [],
   "source": [
    "executable_path = {\"executable_path\": \"/Users/Mikayla/Downloads/chromedriver/chromedriver\"}\n",
    "browser = Browser(\"chrome\", **executable_path, headless=False)"
   ]
  },
  {
   "cell_type": "code",
   "execution_count": 5,
   "metadata": {},
   "outputs": [
    {
     "name": "stdout",
     "output_type": "stream",
     "text": [
      "Collecting pymongo\n",
      "  Downloading https://files.pythonhosted.org/packages/89/52/829cb3b58047af08f4cf7905be3545b7718b96e9c83142072edb48ee5d05/pymongo-3.9.0-cp36-cp36m-win_amd64.whl (351kB)\n",
      "Installing collected packages: pymongo\n",
      "Successfully installed pymongo-3.9.0\n"
     ]
    }
   ],
   "source": [
    "!pip install pymongo"
   ]
  },
  {
   "cell_type": "code",
   "execution_count": 6,
   "metadata": {},
   "outputs": [],
   "source": [
    "import pymongo"
   ]
  },
  {
   "cell_type": "code",
   "execution_count": 15,
   "metadata": {},
   "outputs": [],
   "source": [
    "def scrape():\n",
    "    final_data = {}\n",
    "    output = mars_news()\n",
    "    final_data[\"mars_news\"] = output[0]\n",
    "    final_data[\"mars_paragraph\"] = output[1]\n",
    "    final_data[\"mars_image\"] = mars_space_images()\n",
    "    final_data[\"mars_weather\"] = mars_weather()\n",
    "    final_data[\"mars_facts\"] = mars_facts()\n",
    "    final_data[\"mars_hemisphere\"] = mars_hem()\n",
    "\n",
    "    return final_data"
   ]
  },
  {
   "cell_type": "code",
   "execution_count": 16,
   "metadata": {},
   "outputs": [],
   "source": [
    "def mars_news():\n",
    "    mars_news_url = \"https://mars.nasa.gov/news/?page=0&per_page=40&order=publish_date+desc%2Ccreated_at+desc&search=&category=19%2C165%2C184%2C204&blank_scope=Latest\"\n",
    "    browser.visit(mars_news_url)\n",
    "    html = browser.html\n",
    "    soup = BeautifulSoup(html, \"html.parser\")\n",
    "    news_title = soup.find(\"div\", class_=\"content_title\").text\n",
    "    news_p = article.find(\"div\", class_ =\"rollover_description_inner\").text\n",
    "    output = [news_title, news_p]\n",
    "    return output"
   ]
  },
  {
   "cell_type": "code",
   "execution_count": 17,
   "metadata": {},
   "outputs": [],
   "source": [
    "def mars_space_images():\n",
    "    image_url = \"https://www.jpl.nasa.gov/spaceimages/?search=&category=Mars\"\n",
    "    browser.visit(image_url)\n",
    "    html = browser.html\n",
    "    soup = BeautifulSoup(html, \"html.parser\")\n",
    "    featured_image = soup.find(\"img\", class_=\"thumb\")[\"src\"]\n",
    "    featured_image_url = \"https://www.jpl.nasa.gov\" + featured_image\n",
    "    return featured_image_url"
   ]
  },
  {
   "cell_type": "code",
   "execution_count": 18,
   "metadata": {},
   "outputs": [],
   "source": [
    "def mars_weather():\n",
    "    mars_twitter_url= \"https://twitter.com/marswxreport?lang=en\"\n",
    "    browser.visit(mars_twitter_url)\n",
    "    html=browser.html\n",
    "    soup = BeautifulSoup(html, 'html.parser')\n",
    "    latest_tweet = soup.find(\"div\", class_=\"js-tweet-text-container\").text\n",
    "    return latest_tweet"
   ]
  },
  {
   "cell_type": "code",
   "execution_count": 19,
   "metadata": {},
   "outputs": [],
   "source": [
    "def mars_facts():\n",
    "    space_facts_url= \"https://space-facts.com/mars/\"\n",
    "    browser.visit(space_facts_url)\n",
    "    html=browser.html\n",
    "    soup=BeautifulSoup(html, 'html.parser')\n",
    "    planet_data_table=pd.read_html(space_facts_url)\n",
    "    planet_data_table= pd.DataFrame(planet_data_table)\n",
    "    fast_facts = planet_data_table.to_html(header = False, index = False)\n",
    "    return fast_facts"
   ]
  },
  {
   "cell_type": "code",
   "execution_count": 20,
   "metadata": {},
   "outputs": [],
   "source": [
    "def mars_hem():\n",
    "    pics_url= \"https://astrogeology.usgs.gov/maps/mars-viking-hemisphere-point-perspectives\"\n",
    "    browser.visit(pics_url)\n",
    "    html= browser.html\n",
    "    soup=BeautifulSoup(html, 'html.parser')\n",
    "    pics = soup.find_all(\"a\", class_=\"item\")\n",
    "    hemisphere_image_urls= []\n",
    "    for pic in pics:\n",
    "        title = pic.find(\"h3\").text\n",
    "        end_img_url= pic.find(\"img\")[\"src\"]\n",
    "        full_img_url= \"https://astrogeology.usgs.gov\" + end_img_url\n",
    "        hemisphere_image_urls.append({\"title\": title, \"img_url\": full_img_url})\n",
    "    return hemisphere_image_urls"
   ]
  },
  {
   "cell_type": "code",
   "execution_count": null,
   "metadata": {},
   "outputs": [],
   "source": []
  }
 ],
 "metadata": {
  "kernelspec": {
   "display_name": "Python 3",
   "language": "python",
   "name": "python3"
  },
  "language_info": {
   "codemirror_mode": {
    "name": "ipython",
    "version": 3
   },
   "file_extension": ".py",
   "mimetype": "text/x-python",
   "name": "python",
   "nbconvert_exporter": "python",
   "pygments_lexer": "ipython3",
   "version": "3.6.9"
  }
 },
 "nbformat": 4,
 "nbformat_minor": 2
}
